{
 "cells": [
  {
   "cell_type": "code",
   "execution_count": 163,
   "metadata": {},
   "outputs": [],
   "source": [
    "import warnings\n",
    "warnings.filterwarnings('ignore')\n",
    "\n",
    "import pandas as pd\n",
    "import numpy as np\n",
    "from plotnine import *\n",
    "from sklearn.linear_model import LogisticRegression # Logistic Regression Model\n",
    "from sklearn.linear_model import LinearRegression # Logistic Regression Model\n",
    "from sklearn.metrics import mean_squared_error, r2_score #model evaluation\n",
    "\n",
    "from sklearn.preprocessing import StandardScaler #Z-score variables\n",
    "from sklearn.neighbors import KNeighborsClassifier\n",
    "\n",
    "from sklearn.cluster import KMeans # k-means\n",
    "from sklearn.mixture import GaussianMixture # EM/GMM\n",
    "from sklearn.cluster import AgglomerativeClustering # hierarchical agglomerative clustering\n",
    "from sklearn.model_selection import train_test_split # simple TT split cv\n",
    "from sklearn.metrics import accuracy_score, confusion_matrix\n",
    "\n",
    "from sklearn.metrics import silhouette_score\n",
    "import scipy.cluster.hierarchy as sch\n",
    "from sklearn.model_selection import GridSearchCV\n",
    "from sklearn.mixture import GaussianMixture\n",
    "\n",
    "\n",
    "%matplotlib inline"
   ]
  },
  {
   "cell_type": "code",
   "execution_count": 196,
   "metadata": {},
   "outputs": [
    {
     "data": {
      "text/plain": [
       "Index(['Activity Type', 'Date', 'Title', 'Distance', 'Calories', 'Time',\n",
       "       'Avg HR', 'Max HR', 'Aerobic TE', 'Avg Run Cadence', 'Max Run Cadence',\n",
       "       'Avg Pace', 'Best Pace', 'Elev Gain', 'Elev Loss', 'Avg Stride Length',\n",
       "       'Avg Vertical Ratio', 'Avg Vertical Oscillation', 'Climb Time',\n",
       "       'Bottom Time', 'Min Temp', 'Surface Interval', 'Max Temp', 'Avg Resp',\n",
       "       'Min Resp', 'Max Resp'],\n",
       "      dtype='object')"
      ]
     },
     "execution_count": 196,
     "metadata": {},
     "output_type": "execute_result"
    }
   ],
   "source": [
    "df.columns"
   ]
  },
  {
   "cell_type": "code",
   "execution_count": 63,
   "metadata": {},
   "outputs": [
    {
     "data": {
      "text/html": [
       "<div>\n",
       "<style scoped>\n",
       "    .dataframe tbody tr th:only-of-type {\n",
       "        vertical-align: middle;\n",
       "    }\n",
       "\n",
       "    .dataframe tbody tr th {\n",
       "        vertical-align: top;\n",
       "    }\n",
       "\n",
       "    .dataframe thead th {\n",
       "        text-align: right;\n",
       "    }\n",
       "</style>\n",
       "<table border=\"1\" class=\"dataframe\">\n",
       "  <thead>\n",
       "    <tr style=\"text-align: right;\">\n",
       "      <th></th>\n",
       "      <th>Activity Type</th>\n",
       "      <th>Date</th>\n",
       "      <th>Favorite</th>\n",
       "      <th>Title</th>\n",
       "      <th>Distance</th>\n",
       "      <th>Calories</th>\n",
       "      <th>Time</th>\n",
       "      <th>Avg HR</th>\n",
       "      <th>Max HR</th>\n",
       "      <th>Aerobic TE</th>\n",
       "      <th>...</th>\n",
       "      <th>Bottom Time</th>\n",
       "      <th>Min Temp</th>\n",
       "      <th>Surface Interval</th>\n",
       "      <th>Decompression</th>\n",
       "      <th>Best Lap Time</th>\n",
       "      <th>Number of Laps</th>\n",
       "      <th>Max Temp</th>\n",
       "      <th>Avg Resp</th>\n",
       "      <th>Min Resp</th>\n",
       "      <th>Max Resp</th>\n",
       "    </tr>\n",
       "  </thead>\n",
       "  <tbody>\n",
       "    <tr>\n",
       "      <th>0</th>\n",
       "      <td>Running</td>\n",
       "      <td>2020-09-26 11:50:58</td>\n",
       "      <td>False</td>\n",
       "      <td>San Jose Running</td>\n",
       "      <td>2.59</td>\n",
       "      <td>318</td>\n",
       "      <td>00:22:19</td>\n",
       "      <td>145</td>\n",
       "      <td>169</td>\n",
       "      <td>2.7</td>\n",
       "      <td>...</td>\n",
       "      <td>0:00</td>\n",
       "      <td>82.4</td>\n",
       "      <td>0:00</td>\n",
       "      <td>No</td>\n",
       "      <td>06:42.58</td>\n",
       "      <td>3</td>\n",
       "      <td>0.0</td>\n",
       "      <td>13</td>\n",
       "      <td>13</td>\n",
       "      <td>13</td>\n",
       "    </tr>\n",
       "    <tr>\n",
       "      <th>1</th>\n",
       "      <td>Running</td>\n",
       "      <td>2020-09-24 09:35:13</td>\n",
       "      <td>False</td>\n",
       "      <td>Orange Running</td>\n",
       "      <td>3.81</td>\n",
       "      <td>492</td>\n",
       "      <td>00:32:51</td>\n",
       "      <td>153</td>\n",
       "      <td>182</td>\n",
       "      <td>3.3</td>\n",
       "      <td>...</td>\n",
       "      <td>0:00</td>\n",
       "      <td>78.8</td>\n",
       "      <td>0:00</td>\n",
       "      <td>No</td>\n",
       "      <td>07:08.32</td>\n",
       "      <td>4</td>\n",
       "      <td>0.0</td>\n",
       "      <td>18</td>\n",
       "      <td>18</td>\n",
       "      <td>18</td>\n",
       "    </tr>\n",
       "    <tr>\n",
       "      <th>2</th>\n",
       "      <td>Running</td>\n",
       "      <td>2020-09-23 10:08:14</td>\n",
       "      <td>False</td>\n",
       "      <td>Orange Running</td>\n",
       "      <td>3.76</td>\n",
       "      <td>487</td>\n",
       "      <td>00:32:32</td>\n",
       "      <td>155</td>\n",
       "      <td>186</td>\n",
       "      <td>3.4</td>\n",
       "      <td>...</td>\n",
       "      <td>0:00</td>\n",
       "      <td>82.4</td>\n",
       "      <td>0:00</td>\n",
       "      <td>No</td>\n",
       "      <td>07:15.53</td>\n",
       "      <td>4</td>\n",
       "      <td>0.0</td>\n",
       "      <td>17</td>\n",
       "      <td>17</td>\n",
       "      <td>17</td>\n",
       "    </tr>\n",
       "    <tr>\n",
       "      <th>3</th>\n",
       "      <td>Running</td>\n",
       "      <td>2020-09-22 10:06:54</td>\n",
       "      <td>False</td>\n",
       "      <td>Orange Running</td>\n",
       "      <td>1.92</td>\n",
       "      <td>237</td>\n",
       "      <td>00:15:33</td>\n",
       "      <td>149</td>\n",
       "      <td>171</td>\n",
       "      <td>2.5</td>\n",
       "      <td>...</td>\n",
       "      <td>0:00</td>\n",
       "      <td>78.8</td>\n",
       "      <td>0:00</td>\n",
       "      <td>No</td>\n",
       "      <td>07:26.79</td>\n",
       "      <td>2</td>\n",
       "      <td>0.0</td>\n",
       "      <td>19</td>\n",
       "      <td>19</td>\n",
       "      <td>19</td>\n",
       "    </tr>\n",
       "    <tr>\n",
       "      <th>4</th>\n",
       "      <td>Running</td>\n",
       "      <td>2020-09-18 23:28:30</td>\n",
       "      <td>False</td>\n",
       "      <td>Orange Running</td>\n",
       "      <td>1.93</td>\n",
       "      <td>289</td>\n",
       "      <td>00:20:53</td>\n",
       "      <td>144</td>\n",
       "      <td>171</td>\n",
       "      <td>2.3</td>\n",
       "      <td>...</td>\n",
       "      <td>0:00</td>\n",
       "      <td>80.6</td>\n",
       "      <td>0:00</td>\n",
       "      <td>No</td>\n",
       "      <td>10:04.42</td>\n",
       "      <td>2</td>\n",
       "      <td>0.0</td>\n",
       "      <td>14</td>\n",
       "      <td>14</td>\n",
       "      <td>14</td>\n",
       "    </tr>\n",
       "  </tbody>\n",
       "</table>\n",
       "<p>5 rows × 33 columns</p>\n",
       "</div>"
      ],
      "text/plain": [
       "  Activity Type                 Date  Favorite             Title  Distance  \\\n",
       "0       Running  2020-09-26 11:50:58     False  San Jose Running      2.59   \n",
       "1       Running  2020-09-24 09:35:13     False    Orange Running      3.81   \n",
       "2       Running  2020-09-23 10:08:14     False    Orange Running      3.76   \n",
       "3       Running  2020-09-22 10:06:54     False    Orange Running      1.92   \n",
       "4       Running  2020-09-18 23:28:30     False    Orange Running      1.93   \n",
       "\n",
       "  Calories      Time  Avg HR  Max HR  Aerobic TE  ...  Bottom Time  Min Temp  \\\n",
       "0      318  00:22:19     145     169         2.7  ...         0:00      82.4   \n",
       "1      492  00:32:51     153     182         3.3  ...         0:00      78.8   \n",
       "2      487  00:32:32     155     186         3.4  ...         0:00      82.4   \n",
       "3      237  00:15:33     149     171         2.5  ...         0:00      78.8   \n",
       "4      289  00:20:53     144     171         2.3  ...         0:00      80.6   \n",
       "\n",
       "  Surface Interval Decompression  Best Lap Time Number of Laps  Max Temp  \\\n",
       "0             0:00            No       06:42.58              3       0.0   \n",
       "1             0:00            No       07:08.32              4       0.0   \n",
       "2             0:00            No       07:15.53              4       0.0   \n",
       "3             0:00            No       07:26.79              2       0.0   \n",
       "4             0:00            No       10:04.42              2       0.0   \n",
       "\n",
       "   Avg Resp  Min Resp  Max Resp  \n",
       "0        13        13        13  \n",
       "1        18        18        18  \n",
       "2        17        17        17  \n",
       "3        19        19        19  \n",
       "4        14        14        14  \n",
       "\n",
       "[5 rows x 33 columns]"
      ]
     },
     "execution_count": 63,
     "metadata": {},
     "output_type": "execute_result"
    }
   ],
   "source": [
    "df.head()"
   ]
  },
  {
   "cell_type": "code",
   "execution_count": 156,
   "metadata": {},
   "outputs": [],
   "source": [
    "# convert the column of Time from \"Hours:Minutes:Seconds\" to \"minutes\" for each Time\n",
    "def calc_time_minutes(times): # List of times\n",
    "    conversion = [60, 1, 1/60]\n",
    "    new_times = []\n",
    "    for row in times:\n",
    "        time_list = row.split(\":\")\n",
    "        minutes = 0.\n",
    "\n",
    "        # multiple the respective indeces \"Hours:Minutes:Seconds\" by specific\n",
    "        # amount to convert to minutes\n",
    "        for i, conv in zip(time_list, conversion): \n",
    "            minutes += float(i) * conv\n",
    "\n",
    "        new_times.append(round(minutes, 3))\n",
    "    return new_times\n",
    "\n",
    "# convert the column of Avg pace from \"Minutes:Seconds\" to \"Minutes\" for each Avg Pace\n",
    "def calc_avg_pace_minutes(times):\n",
    "    conversion = [1, 1/60]\n",
    "    new_times = []\n",
    "    for row in times:\n",
    "        time_list = row.split(\":\")\n",
    "        minutes = 0.\n",
    "\n",
    "        # multiple the respective indeces \"Hours:Minutes:Seconds\" by specific\n",
    "        # amount to convert to minutes\n",
    "        for i, conv in zip(time_list, conversion): \n",
    "            minutes += float(i) * conv\n",
    "        new_times.append(round(minutes, 3))\n",
    "    return new_times\n",
    "\n",
    "\n",
    "# convert the column of calories for string values to int for each calorie\n",
    "def calories_to_num(calories):\n",
    "    return [int(calorie.replace(\",\", \"\")) for calorie in calories]"
   ]
  },
  {
   "cell_type": "code",
   "execution_count": null,
   "metadata": {},
   "outputs": [],
   "source": []
  },
  {
   "cell_type": "code",
   "execution_count": 185,
   "metadata": {},
   "outputs": [],
   "source": [
    "df = pd.read_csv(\"Running.csv\")\n",
    "df = df.drop(columns = [\"Favorite\", \"Training Stress Score®\", \"Grit\", \"Flow\", \"Decompression\", \"Number of Laps\", \"Best Lap Time\"])\n",
    "\n",
    "# fix the Time column\n",
    "# new_time_col = [calc_time_minutes(i) for i in df[\"Time\"]]\n",
    "# df[\"Time\"] = new_time_col\n",
    "# df[\"Time\"] = [calc_time_minutes(i) for i in df[\"Time\"]]\n",
    "df[\"Time\"] = calc_time_minutes(df[\"Time\"])\n",
    "\n",
    "# fix the Avg Pace column\n",
    "# new_avg_pace_col = [calc_time_minutes(i) for i in df[\"Avg Pace\"]]\n",
    "# df[\"Avg Pace\"] = new_avg_pace_col\n",
    "# df[\"Avg Pace\"] = [calc_avg_pace_minutes(i) for i in df[\"Avg Pace\"]]\n",
    "df[\"Avg Pace\"] = calc_avg_pace_minutes(df[\"Avg Pace\"])\n",
    "\n",
    "\n",
    "# fix the Calories column\n",
    "df[\"Calories\"] = calories_to_num(df[\"Calories\"])"
   ]
  },
  {
   "cell_type": "code",
   "execution_count": 186,
   "metadata": {},
   "outputs": [
    {
     "data": {
      "text/plain": [
       "LinearRegression()"
      ]
     },
     "execution_count": 186,
     "metadata": {},
     "output_type": "execute_result"
    }
   ],
   "source": [
    "model = LinearRegression()\n",
    "predictors = [\"Distance\", \"Time\", \"Avg HR\", \"Max HR\", \"Avg Pace\"]\n",
    "model.fit(df[predictors], df[\"Calories\"])"
   ]
  },
  {
   "cell_type": "code",
   "execution_count": 187,
   "metadata": {},
   "outputs": [
    {
     "data": {
      "text/html": [
       "<div>\n",
       "<style scoped>\n",
       "    .dataframe tbody tr th:only-of-type {\n",
       "        vertical-align: middle;\n",
       "    }\n",
       "\n",
       "    .dataframe tbody tr th {\n",
       "        vertical-align: top;\n",
       "    }\n",
       "\n",
       "    .dataframe thead th {\n",
       "        text-align: right;\n",
       "    }\n",
       "</style>\n",
       "<table border=\"1\" class=\"dataframe\">\n",
       "  <thead>\n",
       "    <tr style=\"text-align: right;\">\n",
       "      <th></th>\n",
       "      <th>Coefs</th>\n",
       "      <th>Predictor</th>\n",
       "    </tr>\n",
       "  </thead>\n",
       "  <tbody>\n",
       "    <tr>\n",
       "      <th>0</th>\n",
       "      <td>88.742018</td>\n",
       "      <td>Distance</td>\n",
       "    </tr>\n",
       "    <tr>\n",
       "      <th>1</th>\n",
       "      <td>5.650979</td>\n",
       "      <td>Time</td>\n",
       "    </tr>\n",
       "    <tr>\n",
       "      <th>2</th>\n",
       "      <td>2.906620</td>\n",
       "      <td>Avg HR</td>\n",
       "    </tr>\n",
       "    <tr>\n",
       "      <th>3</th>\n",
       "      <td>-1.814452</td>\n",
       "      <td>Max HR</td>\n",
       "    </tr>\n",
       "    <tr>\n",
       "      <th>4</th>\n",
       "      <td>6.762700</td>\n",
       "      <td>Avg Pace</td>\n",
       "    </tr>\n",
       "    <tr>\n",
       "      <th>5</th>\n",
       "      <td>-210.085373</td>\n",
       "      <td>intercept</td>\n",
       "    </tr>\n",
       "  </tbody>\n",
       "</table>\n",
       "</div>"
      ],
      "text/plain": [
       "        Coefs  Predictor\n",
       "0   88.742018   Distance\n",
       "1    5.650979       Time\n",
       "2    2.906620     Avg HR\n",
       "3   -1.814452     Max HR\n",
       "4    6.762700   Avg Pace\n",
       "5 -210.085373  intercept"
      ]
     },
     "execution_count": 187,
     "metadata": {},
     "output_type": "execute_result"
    }
   ],
   "source": [
    "coef = pd.DataFrame({\"Coefs\" : model.coef_, \"Predictor\" : predictors })\n",
    "coef = coef.append({\"Coefs\": model.intercept_,\n",
    "                    \"Predictor\": \"intercept\"}, ignore_index = True)\n",
    "coef"
   ]
  },
  {
   "cell_type": "code",
   "execution_count": 188,
   "metadata": {
    "scrolled": false
   },
   "outputs": [
    {
     "data": {
      "image/png": "[encoded data removed]",
      "text/plain": [
       "<Figure size 640x480 with 1 Axes>"
      ]
     },
     "metadata": {
      "needs_background": "light"
     },
     "output_type": "display_data"
    },
    {
     "data": {
      "text/plain": [
       "<ggplot: (8754965817169)>"
      ]
     },
     "execution_count": 188,
     "metadata": {},
     "output_type": "execute_result"
    }
   ],
   "source": [
    "(ggplot(df, aes (x = \"Distance\", y = \"Calories\")) + geom_point() +\n",
    "theme_minimal())"
   ]
  },
  {
   "cell_type": "code",
   "execution_count": 189,
   "metadata": {},
   "outputs": [
    {
     "data": {
      "image/png": "[encoded data removed]",
      "text/plain": [
       "<Figure size 640x480 with 1 Axes>"
      ]
     },
     "metadata": {
      "needs_background": "light"
     },
     "output_type": "display_data"
    },
    {
     "data": {
      "text/plain": [
       "<ggplot: (8754965669605)>"
      ]
     },
     "execution_count": 189,
     "metadata": {},
     "output_type": "execute_result"
    }
   ],
   "source": [
    "(ggplot(df, aes (x = \"Avg Pace\", y = \"Calories\")) + geom_point() +\n",
    "theme_minimal())"
   ]
  },
  {
   "cell_type": "code",
   "execution_count": 190,
   "metadata": {},
   "outputs": [
    {
     "data": {
      "image/png": "[encoded data removed]",
      "text/plain": [
       "<Figure size 640x480 with 1 Axes>"
      ]
     },
     "metadata": {
      "needs_background": "light"
     },
     "output_type": "display_data"
    },
    {
     "data": {
      "text/plain": [
       "<ggplot: (8754965680805)>"
      ]
     },
     "execution_count": 190,
     "metadata": {},
     "output_type": "execute_result"
    }
   ],
   "source": [
    "(ggplot(df, aes (x = \"Avg HR\", y = \"Calories\")) + geom_point() +\n",
    "theme_minimal())"
   ]
  },
  {
   "cell_type": "code",
   "execution_count": 191,
   "metadata": {},
   "outputs": [
    {
     "data": {
      "text/plain": [
       "0.9942782784570317"
      ]
     },
     "execution_count": 191,
     "metadata": {},
     "output_type": "execute_result"
    }
   ],
   "source": [
    "y_pred = model.predict(df[predictors])\n",
    "r2_score(df[\"Calories\"], y_pred)"
   ]
  },
  {
   "cell_type": "code",
   "execution_count": 192,
   "metadata": {},
   "outputs": [
    {
     "data": {
      "image/png": "[encoded data removed]",
      "text/plain": [
       "<Figure size 640x480 with 1 Axes>"
      ]
     },
     "metadata": {
      "needs_background": "light"
     },
     "output_type": "display_data"
    },
    {
     "data": {
      "text/plain": [
       "<ggplot: (8754965639861)>"
      ]
     },
     "execution_count": 192,
     "metadata": {},
     "output_type": "execute_result"
    }
   ],
   "source": [
    "true_vs_pred = pd.DataFrame({\"true_vals\": df[\"Calories\"], \"pred_vals\": y_pred})\n",
    "true_vs_pred[\"residual\"] = true_vs_pred[\"true_vals\"] - true_vs_pred[\"pred_vals\"]\n",
    "(ggplot(true_vs_pred, aes (x = \"true_vals\", y = \"pred_vals\")) + geom_point() +\n",
    "ggtitle(\"Predicted Calories vs True Calories\") +\n",
    "theme_minimal() +\n",
    "labs(x = \"Predicted Calories\"))"
   ]
  },
  {
   "cell_type": "code",
   "execution_count": 193,
   "metadata": {},
   "outputs": [
    {
     "data": {
      "image/png": "[encoded data removed]",
      "text/plain": [
       "<Figure size 640x480 with 1 Axes>"
      ]
     },
     "metadata": {
      "needs_background": "light"
     },
     "output_type": "display_data"
    },
    {
     "data": {
      "text/plain": [
       "<ggplot: (8754965606521)>"
      ]
     },
     "execution_count": 193,
     "metadata": {},
     "output_type": "execute_result"
    }
   ],
   "source": [
    "(ggplot(true_vs_pred, aes (x = \"true_vals\", y = \"residual\")) + geom_point() +\n",
    "ggtitle(\"Predicted Calories vs Residual\") +\n",
    "theme_minimal() +\n",
    "labs(x = \"Predicted Calories\"))"
   ]
  },
  {
   "cell_type": "code",
   "execution_count": null,
   "metadata": {},
   "outputs": [],
   "source": []
  },
  {
   "cell_type": "code",
   "execution_count": null,
   "metadata": {},
   "outputs": [],
   "source": []
  }
 ],
 "metadata": {
  "kernelspec": {
   "display_name": "PYsysMK",
   "language": "python",
   "name": "pysysmk"
  },
  "language_info": {
   "codemirror_mode": {
    "name": "ipython",
    "version": 3
   },
   "file_extension": ".py",
   "mimetype": "text/x-python",
   "name": "python",
   "nbconvert_exporter": "python",
   "pygments_lexer": "ipython3",
   "version": "3.7.7"
  }
 },
 "nbformat": 4,
 "nbformat_minor": 4
}
